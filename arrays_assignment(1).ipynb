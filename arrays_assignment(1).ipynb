{
 "cells": [
  {
   "cell_type": "markdown",
   "id": "0af09f31-e67b-4016-9826-666557ba43df",
   "metadata": {},
   "source": [
    "1. Given an array, check if it contains any duplicates or not.\n",
    "arr = [1, 2, 4, 2, 5, 9]\n",
    "Output = True"
   ]
  },
  {
   "cell_type": "code",
   "execution_count": 1,
   "id": "469befa8-9ae8-48c2-8c63-3d25b6601aa6",
   "metadata": {},
   "outputs": [],
   "source": [
    "# for checking the duplicates we have to define a function:\n",
    "def is_duplicate(arr):\n",
    "# initilize a array to store the unique elements:\n",
    "    unique = []\n",
    "# iterate through the given array:\n",
    "    for i in arr:\n",
    "    # if the element is unique add it into unique list: \n",
    "        if i not in unique:\n",
    "            unique.append(i)\n",
    "    # otherwise return true for duplicate:\n",
    "    return True"
   ]
  },
  {
   "cell_type": "code",
   "execution_count": 2,
   "id": "231becdd-a844-4790-bb55-26a2151fdf7b",
   "metadata": {},
   "outputs": [
    {
     "data": {
      "text/plain": [
       "True"
      ]
     },
     "execution_count": 2,
     "metadata": {},
     "output_type": "execute_result"
    }
   ],
   "source": [
    "# function call:\n",
    "arr = [1,2,4,2,5,9]\n",
    "output = is_duplicate(arr)\n",
    "output"
   ]
  },
  {
   "cell_type": "markdown",
   "id": "b8cf4705-0ed2-435c-aee1-fc33c46babfd",
   "metadata": {},
   "source": [
    "2. Given an array and an integer k, rotate the array to the right by k steps.\n",
    "arr = [1, 2, 3, 4, 5, 6, 7] k = 3\n",
    "Output = [5, 6, 7, 1, 2, 3, 4]"
   ]
  },
  {
   "cell_type": "code",
   "execution_count": 3,
   "id": "6a9f4faf-9474-43f4-a6cd-2661315e1a65",
   "metadata": {},
   "outputs": [],
   "source": [
    "# firstly define a function rotate to rotate the array to the right by k steps which accepts two arguments:\n",
    "def rotate(arr,k):\n",
    "    # use slicing to rotate the array:\n",
    "    l = arr[-k:] + arr[0:k+1]\n",
    "    return l"
   ]
  },
  {
   "cell_type": "code",
   "execution_count": 4,
   "id": "0d6344b9-746d-43f5-b7f4-f7fe2f4a2c28",
   "metadata": {},
   "outputs": [
    {
     "data": {
      "text/plain": [
       "[5, 6, 7, 1, 2, 3, 4]"
      ]
     },
     "execution_count": 4,
     "metadata": {},
     "output_type": "execute_result"
    }
   ],
   "source": [
    "# call the function:\n",
    "arr = [1, 2, 3, 4, 5, 6, 7] \n",
    "k = 3\n",
    "output = rotate(arr,k)\n",
    "output"
   ]
  },
  {
   "cell_type": "markdown",
   "id": "0b96bb60-046c-4fd6-b9bd-bc34b6ca9394",
   "metadata": {},
   "source": [
    "3. Reverse the given array in-place, means without using any extra data structure.\n",
    "arr = [2, 4, 5, 7, 9, 12]\n",
    "Output = [12, 9, 7, 5, 4, 2]"
   ]
  },
  {
   "cell_type": "code",
   "execution_count": 5,
   "id": "3ef4b5ad-ba21-49b6-816c-31e0298ac9cf",
   "metadata": {},
   "outputs": [
    {
     "data": {
      "text/plain": [
       "[12, 9, 7, 5, 4, 2]"
      ]
     },
     "execution_count": 5,
     "metadata": {},
     "output_type": "execute_result"
    }
   ],
   "source": [
    "# define a funtion:\n",
    "def rev_arr(arr):\n",
    "    # to reverse an array use slicing :\n",
    "    rev = arr[::-1]\n",
    "    # now return the reverse:\n",
    "    return rev\n",
    "\n",
    "### driver code\n",
    "arr = [2, 4, 5, 7, 9, 12]\n",
    "output = rev_arr(arr)\n",
    "output"
   ]
  },
  {
   "cell_type": "markdown",
   "id": "25ffe630-7fe4-4b38-9873-95922545f28b",
   "metadata": {},
   "source": [
    "4. Given an array of integers, find the maximum element in an array\n",
    "arr = [10, 5, 20, 8, 15]\n",
    "Output = 20"
   ]
  },
  {
   "cell_type": "code",
   "execution_count": 6,
   "id": "bc3f2ca5-62e5-48e3-bde8-fd21c2ebeb02",
   "metadata": {},
   "outputs": [],
   "source": [
    "# to find mximum eelment define a function :\n",
    "def find_max(arr):\n",
    "    # initialize a temporary variable to store the value of index 0:\n",
    "    temp = arr[0]\n",
    "    # now iterate over the array through the loop to check every element one by one:\n",
    "    for i in range(len(arr)):\n",
    "        # checking if element is mximum or not:\n",
    "        if arr[i]>temp:\n",
    "            temp = arr[i]\n",
    "    return temp"
   ]
  },
  {
   "cell_type": "code",
   "execution_count": 7,
   "id": "9cabe427-112b-49ef-880b-bbe22eb8c4bb",
   "metadata": {},
   "outputs": [
    {
     "data": {
      "text/plain": [
       "20"
      ]
     },
     "execution_count": 7,
     "metadata": {},
     "output_type": "execute_result"
    }
   ],
   "source": [
    "# function call:\n",
    "arr = [10, 5, 20, 8, 15]\n",
    "output = find_max(arr)\n",
    "output"
   ]
  },
  {
   "cell_type": "markdown",
   "id": "5976b7e0-52c8-4df9-938e-f88be967b5b4",
   "metadata": {},
   "source": [
    "5. Given a sorted array, remove the duplicate element without using any extra data structure.\n",
    "arr = [1, 1, 2, 2, 2, 3, 3, 4, 4, 4, 5, 5]\n",
    "Output = [1, 2, 3, 4, 5]"
   ]
  },
  {
   "cell_type": "code",
   "execution_count": 8,
   "id": "5eec2115-085b-478b-8d06-1f5f48742a84",
   "metadata": {},
   "outputs": [],
   "source": [
    "# define a function to remove the duplicates:\n",
    "def remove_duplicates(arr):\n",
    "    # initialize an array :\n",
    "    l1 = []\n",
    "    # iterate through the array:\n",
    "    for i in arr:\n",
    "        # check if the element is duplicate:\n",
    "        if i not in l1:\n",
    "            l1.append(i)\n",
    "    return l1"
   ]
  },
  {
   "cell_type": "code",
   "execution_count": 9,
   "id": "3245fd25-3f5d-4048-94a6-57c34fec60c7",
   "metadata": {},
   "outputs": [
    {
     "data": {
      "text/plain": [
       "[1, 2, 3, 4, 5]"
      ]
     },
     "execution_count": 9,
     "metadata": {},
     "output_type": "execute_result"
    }
   ],
   "source": [
    "# function call:\n",
    "arr = [1, 1, 2, 2, 2, 3, 3, 4, 4, 4, 5, 5]\n",
    "output = remove_duplicates(arr)\n",
    "output"
   ]
  },
  {
   "cell_type": "code",
   "execution_count": null,
   "id": "11eb16e5-2314-4009-970a-8d1bb8e9cd67",
   "metadata": {},
   "outputs": [],
   "source": []
  }
 ],
 "metadata": {
  "kernelspec": {
   "display_name": "Python 3 (ipykernel)",
   "language": "python",
   "name": "python3"
  },
  "language_info": {
   "codemirror_mode": {
    "name": "ipython",
    "version": 3
   },
   "file_extension": ".py",
   "mimetype": "text/x-python",
   "name": "python",
   "nbconvert_exporter": "python",
   "pygments_lexer": "ipython3",
   "version": "3.10.8"
  }
 },
 "nbformat": 4,
 "nbformat_minor": 5
}
